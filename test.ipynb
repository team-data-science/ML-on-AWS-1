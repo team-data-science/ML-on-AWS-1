{
 "cells": [
  {
   "cell_type": "code",
   "execution_count": 111,
   "metadata": {},
   "outputs": [],
   "source": [
    "import requests\n",
    "import pandas as pd\n",
    "from dateutil import parser"
   ]
  },
  {
   "cell_type": "code",
   "execution_count": 2,
   "metadata": {},
   "outputs": [],
   "source": [
    "response = requests.get('https://content.guardianapis.com/sport/2022/oct/07/cricket-jos-buttler-primed-for-england-comeback-while-phil-salt-stays-focused?api-key=test')"
   ]
  },
  {
   "cell_type": "code",
   "execution_count": 5,
   "metadata": {},
   "outputs": [],
   "source": [
    "params = {'api-key': 'test',\n",
    "          'show-fields': 'bodyText'}"
   ]
  },
  {
   "cell_type": "code",
   "execution_count": 6,
   "metadata": {},
   "outputs": [],
   "source": [
    "response = requests.get('https://content.guardianapis.com/sport/2022/oct/07/cricket-jos-buttler-primed-for-england-comeback-while-phil-salt-stays-focused', params=params)"
   ]
  },
  {
   "cell_type": "code",
   "execution_count": 105,
   "metadata": {},
   "outputs": [],
   "source": [
    "BASE_URL = 'https://content.guardianapis.com/search'\n",
    "params = {'api-key': 'test',\n",
    "                  'order-by': 'newest',\n",
    "                  'page-size': 10,\n",
    "                  'page': 1,\n",
    "                  #'q': '',\n",
    "                  'show-references': 'author',\n",
    "                  'show-tags': 'contributor',\n",
    "                  }\n",
    "guardian_posts = requests.get(BASE_URL, params=params)"
   ]
  },
  {
   "cell_type": "code",
   "execution_count": 106,
   "metadata": {},
   "outputs": [],
   "source": [
    "guardian_posts_list = guardian_posts.json()['response']['results']"
   ]
  },
  {
   "cell_type": "code",
   "execution_count": 107,
   "metadata": {},
   "outputs": [],
   "source": [
    "df = pd.json_normalize(guardian_posts_list)"
   ]
  },
  {
   "cell_type": "code",
   "execution_count": 108,
   "metadata": {},
   "outputs": [
    {
     "data": {
      "text/plain": [
       "{'id': 'politics/live/2024/jun/10/tories-labour-lib-dems-manifesto-rishi-sunak-ed-davey-keir-starmer-uk-politics-live',\n",
       " 'type': 'liveblog',\n",
       " 'sectionId': 'politics',\n",
       " 'sectionName': 'Politics',\n",
       " 'webPublicationDate': '2024-06-10T10:46:19Z',\n",
       " 'webTitle': 'Davey launches Lib Dem manifesto, saying ‘caring has been in the shadows too long’ – UK politics live',\n",
       " 'webUrl': 'https://www.theguardian.com/politics/live/2024/jun/10/tories-labour-lib-dems-manifesto-rishi-sunak-ed-davey-keir-starmer-uk-politics-live',\n",
       " 'apiUrl': 'https://content.guardianapis.com/politics/live/2024/jun/10/tories-labour-lib-dems-manifesto-rishi-sunak-ed-davey-keir-starmer-uk-politics-live',\n",
       " 'tags': [{'id': 'profile/andrewsparrow',\n",
       "   'type': 'contributor',\n",
       "   'webTitle': 'Andrew Sparrow',\n",
       "   'webUrl': 'https://www.theguardian.com/profile/andrewsparrow',\n",
       "   'apiUrl': 'https://content.guardianapis.com/profile/andrewsparrow',\n",
       "   'references': [],\n",
       "   'bio': '<p>Andrew Sparrow is a political correspondent at the Guardian. He writes the Guardian\\'s daily live blog, <a href=\"http://www.theguardian.com/politics/series/politics-live-with-andrew-sparrow\">Politics live with Andrew Sparrow</a>.</p>',\n",
       "   'bylineImageUrl': 'https://uploads.guim.co.uk/2017/10/06/Andrew-Sparrow.jpg',\n",
       "   'bylineLargeImageUrl': 'https://uploads.guim.co.uk/2017/10/06/Andrew_Sparrow,_R.png',\n",
       "   'firstName': 'sparrow',\n",
       "   'lastName': 'andrew',\n",
       "   'twitterHandle': 'AndrewSparrow'},\n",
       "  {'id': 'profile/jessica-elgot',\n",
       "   'type': 'contributor',\n",
       "   'webTitle': 'Jessica Elgot',\n",
       "   'webUrl': 'https://www.theguardian.com/profile/jessica-elgot',\n",
       "   'apiUrl': 'https://content.guardianapis.com/profile/jessica-elgot',\n",
       "   'references': [],\n",
       "   'bio': '<p>Jessica Elgot is the Guardian\\'s deputy political editor. Twitter <a href=\"https://twitter.com/jessicaelgot\">@jessicaelgot</a></p>',\n",
       "   'bylineImageUrl': 'https://static.guim.co.uk/sys-images/Guardian/Pix/contributor/2015/6/26/1435313697913/Jessica-Elgot.jpg',\n",
       "   'bylineLargeImageUrl': 'https://uploads.guim.co.uk/2017/10/06/Jessica-Elgot,-R.png',\n",
       "   'firstName': 'Jessica',\n",
       "   'lastName': 'Elgot',\n",
       "   'twitterHandle': 'jessicaelgot'},\n",
       "  {'id': 'profile/libbybrooks',\n",
       "   'type': 'contributor',\n",
       "   'webTitle': 'Libby Brooks',\n",
       "   'webUrl': 'https://www.theguardian.com/profile/libbybrooks',\n",
       "   'apiUrl': 'https://content.guardianapis.com/profile/libbybrooks',\n",
       "   'references': [],\n",
       "   'bio': \"<p>Libby Brooks is the Guardian's Scotland correspondent, based in Glasgow</p>\",\n",
       "   'bylineImageUrl': 'https://uploads.guim.co.uk/2023/01/24/Libby_Brooks.jpg',\n",
       "   'bylineLargeImageUrl': 'https://uploads.guim.co.uk/2023/01/24/Libby_Brooks.png',\n",
       "   'firstName': 'Libby',\n",
       "   'lastName': 'Brooks'}],\n",
       " 'references': [],\n",
       " 'isHosted': False,\n",
       " 'pillarId': 'pillar/news',\n",
       " 'pillarName': 'News'}"
      ]
     },
     "execution_count": 108,
     "metadata": {},
     "output_type": "execute_result"
    }
   ],
   "source": [
    "guardian_posts_list[0]"
   ]
  },
  {
   "cell_type": "code",
   "execution_count": 109,
   "metadata": {},
   "outputs": [],
   "source": [
    "time_created = guardian_posts_list[0]['webPublicationDate']\n",
    "text = guardian_posts_list[0]['webTitle']"
   ]
  },
  {
   "cell_type": "code",
   "execution_count": 110,
   "metadata": {},
   "outputs": [
    {
     "data": {
      "text/plain": [
       "{'timestamp': '2024-06-10T10:46:19Z',\n",
       " 'text': 'Davey launches Lib Dem manifesto, saying ‘caring has been in the shadows too long’ – UK politics live'}"
      ]
     },
     "execution_count": 110,
     "metadata": {},
     "output_type": "execute_result"
    }
   ],
   "source": [
    "dict(timestamp=time_created, text=text)"
   ]
  },
  {
   "cell_type": "code",
   "execution_count": 112,
   "metadata": {},
   "outputs": [
    {
     "data": {
      "text/plain": [
       "datetime.datetime(2024, 6, 10, 10, 46, 19, tzinfo=tzutc())"
      ]
     },
     "execution_count": 112,
     "metadata": {},
     "output_type": "execute_result"
    }
   ],
   "source": [
    "parser.parse(time_created)"
   ]
  },
  {
   "cell_type": "code",
   "execution_count": null,
   "metadata": {},
   "outputs": [],
   "source": []
  }
 ],
 "metadata": {
  "kernelspec": {
   "display_name": "Python 3",
   "language": "python",
   "name": "python3"
  },
  "language_info": {
   "codemirror_mode": {
    "name": "ipython",
    "version": 3
   },
   "file_extension": ".py",
   "mimetype": "text/x-python",
   "name": "python",
   "nbconvert_exporter": "python",
   "pygments_lexer": "ipython3",
   "version": "3.10.12"
  }
 },
 "nbformat": 4,
 "nbformat_minor": 2
}
